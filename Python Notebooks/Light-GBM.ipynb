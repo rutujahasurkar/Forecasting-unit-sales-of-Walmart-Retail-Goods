{
 "cells": [
  {
   "cell_type": "code",
   "execution_count": 1,
   "metadata": {},
   "outputs": [],
   "source": [
    "import pandas as pd\n",
    "import numpy as np\n",
    "import lightgbm as lgb\n",
    "from sklearn.model_selection import train_test_split\n",
    "import warnings\n",
    "warnings.filterwarnings(\"ignore\")"
   ]
  },
  {
   "cell_type": "code",
   "execution_count": 2,
   "metadata": {},
   "outputs": [],
   "source": [
    "df = pd.read_csv('/home/014491542/CMPE-256 Project/DataSet/finalDataset.csv',index_col=None)"
   ]
  },
  {
   "cell_type": "code",
   "execution_count": 3,
   "metadata": {},
   "outputs": [],
   "source": [
    "pd.options.display.max_columns = 100"
   ]
  },
  {
   "cell_type": "code",
   "execution_count": 4,
   "metadata": {},
   "outputs": [],
   "source": [
    "df.drop(df.columns[df.columns.str.contains('unnamed',case = False)],axis = 1, inplace = True)"
   ]
  },
  {
   "cell_type": "code",
   "execution_count": 5,
   "metadata": {},
   "outputs": [],
   "source": [
    "df.dropna(inplace=True)"
   ]
  },
  {
   "cell_type": "code",
   "execution_count": 6,
   "metadata": {},
   "outputs": [
    {
     "name": "stdout",
     "output_type": "stream",
     "text": [
      "(44351007, 25)\n"
     ]
    }
   ],
   "source": [
    "df_new = df.drop(columns=['id','d','sales','date','wm_yr_wk','weekday','wday','is_month_start','is_month_end'])\n",
    "print(df_new.shape)"
   ]
  },
  {
   "cell_type": "code",
   "execution_count": 7,
   "metadata": {},
   "outputs": [
    {
     "data": {
      "text/html": [
       "<div>\n",
       "<style scoped>\n",
       "    .dataframe tbody tr th:only-of-type {\n",
       "        vertical-align: middle;\n",
       "    }\n",
       "\n",
       "    .dataframe tbody tr th {\n",
       "        vertical-align: top;\n",
       "    }\n",
       "\n",
       "    .dataframe thead th {\n",
       "        text-align: right;\n",
       "    }\n",
       "</style>\n",
       "<table border=\"1\" class=\"dataframe\">\n",
       "  <thead>\n",
       "    <tr style=\"text-align: right;\">\n",
       "      <th></th>\n",
       "      <th>item_id</th>\n",
       "      <th>dept_id</th>\n",
       "      <th>store_id</th>\n",
       "      <th>cat_id</th>\n",
       "      <th>state_id</th>\n",
       "      <th>month</th>\n",
       "      <th>year</th>\n",
       "      <th>event_name_1</th>\n",
       "      <th>event_type_1</th>\n",
       "      <th>event_name_2</th>\n",
       "      <th>event_type_2</th>\n",
       "      <th>snap_CA</th>\n",
       "      <th>snap_TX</th>\n",
       "      <th>snap_WI</th>\n",
       "      <th>sell_price</th>\n",
       "      <th>lag_7</th>\n",
       "      <th>lag_14</th>\n",
       "      <th>lag_21</th>\n",
       "      <th>lag_28</th>\n",
       "      <th>rolling_ave_7_7</th>\n",
       "      <th>rolling_ave_14_14</th>\n",
       "      <th>rolling_ave_21_21</th>\n",
       "      <th>rolling_ave_28_28</th>\n",
       "      <th>quarter</th>\n",
       "      <th>mday</th>\n",
       "    </tr>\n",
       "  </thead>\n",
       "  <tbody>\n",
       "    <tr>\n",
       "      <th>617364</th>\n",
       "      <td>7</td>\n",
       "      <td>0</td>\n",
       "      <td>0</td>\n",
       "      <td>0</td>\n",
       "      <td>0</td>\n",
       "      <td>3</td>\n",
       "      <td>2011</td>\n",
       "      <td>0</td>\n",
       "      <td>0</td>\n",
       "      <td>0</td>\n",
       "      <td>0</td>\n",
       "      <td>0.0</td>\n",
       "      <td>0.0</td>\n",
       "      <td>0.0</td>\n",
       "      <td>0.42</td>\n",
       "      <td>0.0</td>\n",
       "      <td>0.0</td>\n",
       "      <td>0.0</td>\n",
       "      <td>0.0</td>\n",
       "      <td>2.000000</td>\n",
       "      <td>0.285714</td>\n",
       "      <td>1.952381</td>\n",
       "      <td>4.535714</td>\n",
       "      <td>1</td>\n",
       "      <td>25</td>\n",
       "    </tr>\n",
       "    <tr>\n",
       "      <th>617371</th>\n",
       "      <td>8</td>\n",
       "      <td>0</td>\n",
       "      <td>0</td>\n",
       "      <td>0</td>\n",
       "      <td>0</td>\n",
       "      <td>3</td>\n",
       "      <td>2011</td>\n",
       "      <td>0</td>\n",
       "      <td>0</td>\n",
       "      <td>0</td>\n",
       "      <td>0</td>\n",
       "      <td>0.0</td>\n",
       "      <td>0.0</td>\n",
       "      <td>0.0</td>\n",
       "      <td>1.77</td>\n",
       "      <td>0.0</td>\n",
       "      <td>0.0</td>\n",
       "      <td>2.0</td>\n",
       "      <td>0.0</td>\n",
       "      <td>2.000000</td>\n",
       "      <td>2.285714</td>\n",
       "      <td>1.761905</td>\n",
       "      <td>2.178571</td>\n",
       "      <td>1</td>\n",
       "      <td>25</td>\n",
       "    </tr>\n",
       "    <tr>\n",
       "      <th>617378</th>\n",
       "      <td>9</td>\n",
       "      <td>0</td>\n",
       "      <td>0</td>\n",
       "      <td>0</td>\n",
       "      <td>0</td>\n",
       "      <td>3</td>\n",
       "      <td>2011</td>\n",
       "      <td>0</td>\n",
       "      <td>0</td>\n",
       "      <td>0</td>\n",
       "      <td>0</td>\n",
       "      <td>0.0</td>\n",
       "      <td>0.0</td>\n",
       "      <td>0.0</td>\n",
       "      <td>3.17</td>\n",
       "      <td>0.0</td>\n",
       "      <td>0.0</td>\n",
       "      <td>0.0</td>\n",
       "      <td>0.0</td>\n",
       "      <td>0.000000</td>\n",
       "      <td>0.000000</td>\n",
       "      <td>0.142857</td>\n",
       "      <td>0.214286</td>\n",
       "      <td>1</td>\n",
       "      <td>25</td>\n",
       "    </tr>\n",
       "    <tr>\n",
       "      <th>617385</th>\n",
       "      <td>11</td>\n",
       "      <td>0</td>\n",
       "      <td>0</td>\n",
       "      <td>0</td>\n",
       "      <td>0</td>\n",
       "      <td>3</td>\n",
       "      <td>2011</td>\n",
       "      <td>0</td>\n",
       "      <td>0</td>\n",
       "      <td>0</td>\n",
       "      <td>0</td>\n",
       "      <td>0.0</td>\n",
       "      <td>0.0</td>\n",
       "      <td>0.0</td>\n",
       "      <td>6.27</td>\n",
       "      <td>1.0</td>\n",
       "      <td>0.0</td>\n",
       "      <td>0.0</td>\n",
       "      <td>1.0</td>\n",
       "      <td>0.428571</td>\n",
       "      <td>0.428571</td>\n",
       "      <td>0.666667</td>\n",
       "      <td>0.678571</td>\n",
       "      <td>1</td>\n",
       "      <td>25</td>\n",
       "    </tr>\n",
       "    <tr>\n",
       "      <th>617392</th>\n",
       "      <td>14</td>\n",
       "      <td>0</td>\n",
       "      <td>0</td>\n",
       "      <td>0</td>\n",
       "      <td>0</td>\n",
       "      <td>3</td>\n",
       "      <td>2011</td>\n",
       "      <td>0</td>\n",
       "      <td>0</td>\n",
       "      <td>0</td>\n",
       "      <td>0</td>\n",
       "      <td>0.0</td>\n",
       "      <td>0.0</td>\n",
       "      <td>0.0</td>\n",
       "      <td>0.72</td>\n",
       "      <td>2.0</td>\n",
       "      <td>1.0</td>\n",
       "      <td>8.0</td>\n",
       "      <td>1.0</td>\n",
       "      <td>5.428571</td>\n",
       "      <td>5.571429</td>\n",
       "      <td>6.857143</td>\n",
       "      <td>4.321429</td>\n",
       "      <td>1</td>\n",
       "      <td>25</td>\n",
       "    </tr>\n",
       "  </tbody>\n",
       "</table>\n",
       "</div>"
      ],
      "text/plain": [
       "        item_id  dept_id  store_id  cat_id  state_id  month  year  \\\n",
       "617364        7        0         0       0         0      3  2011   \n",
       "617371        8        0         0       0         0      3  2011   \n",
       "617378        9        0         0       0         0      3  2011   \n",
       "617385       11        0         0       0         0      3  2011   \n",
       "617392       14        0         0       0         0      3  2011   \n",
       "\n",
       "        event_name_1  event_type_1  event_name_2  event_type_2  snap_CA  \\\n",
       "617364             0             0             0             0      0.0   \n",
       "617371             0             0             0             0      0.0   \n",
       "617378             0             0             0             0      0.0   \n",
       "617385             0             0             0             0      0.0   \n",
       "617392             0             0             0             0      0.0   \n",
       "\n",
       "        snap_TX  snap_WI  sell_price  lag_7  lag_14  lag_21  lag_28  \\\n",
       "617364      0.0      0.0        0.42    0.0     0.0     0.0     0.0   \n",
       "617371      0.0      0.0        1.77    0.0     0.0     2.0     0.0   \n",
       "617378      0.0      0.0        3.17    0.0     0.0     0.0     0.0   \n",
       "617385      0.0      0.0        6.27    1.0     0.0     0.0     1.0   \n",
       "617392      0.0      0.0        0.72    2.0     1.0     8.0     1.0   \n",
       "\n",
       "        rolling_ave_7_7  rolling_ave_14_14  rolling_ave_21_21  \\\n",
       "617364         2.000000           0.285714           1.952381   \n",
       "617371         2.000000           2.285714           1.761905   \n",
       "617378         0.000000           0.000000           0.142857   \n",
       "617385         0.428571           0.428571           0.666667   \n",
       "617392         5.428571           5.571429           6.857143   \n",
       "\n",
       "        rolling_ave_28_28  quarter  mday  \n",
       "617364           4.535714        1    25  \n",
       "617371           2.178571        1    25  \n",
       "617378           0.214286        1    25  \n",
       "617385           0.678571        1    25  \n",
       "617392           4.321429        1    25  "
      ]
     },
     "execution_count": 7,
     "metadata": {},
     "output_type": "execute_result"
    }
   ],
   "source": [
    "df_new.head()"
   ]
  },
  {
   "cell_type": "code",
   "execution_count": 8,
   "metadata": {},
   "outputs": [],
   "source": [
    "X = df_new\n",
    "y = df['sales']\n",
    "cat_features = ['item_id','dept_id','store_id','cat_id','state_id','event_name_1','event_type_1','event_name_2','event_type_2']"
   ]
  },
  {
   "cell_type": "code",
   "execution_count": 9,
   "metadata": {},
   "outputs": [],
   "source": [
    "X_train,X_test,y_train,y_test = train_test_split(X,y,test_size=0.3,random_state=40)"
   ]
  },
  {
   "cell_type": "code",
   "execution_count": 10,
   "metadata": {},
   "outputs": [],
   "source": [
    "trainData = lgb.Dataset(X_train,label=y_train,categorical_feature = cat_features,free_raw_data = False)"
   ]
  },
  {
   "cell_type": "code",
   "execution_count": 11,
   "metadata": {},
   "outputs": [],
   "source": [
    "validationData = lgb.Dataset(X_test,label=y_test,categorical_feature = cat_features,free_raw_data = False)"
   ]
  },
  {
   "cell_type": "code",
   "execution_count": 21,
   "metadata": {},
   "outputs": [],
   "source": [
    "params = {\n",
    "    \"metric\":\"rmse\",\n",
    "    \"objective\":\"poisson\",\n",
    "    \"force_row_wise\" : True,\n",
    "    \"bagging_freq\" : 1,\n",
    "    #\"sub_row\":0.75,\n",
    "    \"verbosity\": 1,\n",
    "    \"learning_rate\":0.075,\n",
    "    \"num_iterations\":1000,\n",
    "    #\"num_leaves\":150,\n",
    "    #\"min_data_in_leaf\":100,\n",
    "    \"lambda_l2\":0.1,\n",
    "}"
   ]
  },
  {
   "cell_type": "code",
   "execution_count": 22,
   "metadata": {},
   "outputs": [
    {
     "name": "stdout",
     "output_type": "stream",
     "text": [
      "[50]\tvalid_0's rmse: 2.69388\n",
      "[100]\tvalid_0's rmse: 2.59573\n",
      "[150]\tvalid_0's rmse: 2.57496\n",
      "[200]\tvalid_0's rmse: 2.54674\n",
      "[250]\tvalid_0's rmse: 2.5295\n",
      "[300]\tvalid_0's rmse: 2.5158\n",
      "[350]\tvalid_0's rmse: 2.50435\n",
      "[400]\tvalid_0's rmse: 2.49635\n",
      "[450]\tvalid_0's rmse: 2.4865\n",
      "[500]\tvalid_0's rmse: 2.4797\n",
      "[550]\tvalid_0's rmse: 2.47385\n",
      "[600]\tvalid_0's rmse: 2.46895\n",
      "[650]\tvalid_0's rmse: 2.46385\n",
      "[700]\tvalid_0's rmse: 2.45732\n",
      "[750]\tvalid_0's rmse: 2.45328\n",
      "[800]\tvalid_0's rmse: 2.44887\n",
      "[850]\tvalid_0's rmse: 2.44631\n",
      "[900]\tvalid_0's rmse: 2.44235\n",
      "[950]\tvalid_0's rmse: 2.43857\n",
      "[1000]\tvalid_0's rmse: 2.43561\n"
     ]
    }
   ],
   "source": [
    "history = lgb.train(params,trainData,valid_sets=[validationData],verbose_eval=50)"
   ]
  },
  {
   "cell_type": "code",
   "execution_count": 23,
   "metadata": {},
   "outputs": [
    {
     "data": {
      "text/plain": [
       "<lightgbm.basic.Booster at 0x7faf41aa45c0>"
      ]
     },
     "execution_count": 23,
     "metadata": {},
     "output_type": "execute_result"
    }
   ],
   "source": [
    "history.save_model(\"/home/014491542/CMPE-256 Project/Models/LightGBM-v2.lgb\")"
   ]
  }
 ],
 "metadata": {
  "kernelspec": {
   "display_name": "Python 3",
   "language": "python",
   "name": "python3"
  },
  "language_info": {
   "codemirror_mode": {
    "name": "ipython",
    "version": 3
   },
   "file_extension": ".py",
   "mimetype": "text/x-python",
   "name": "python",
   "nbconvert_exporter": "python",
   "pygments_lexer": "ipython3",
   "version": "3.7.0"
  }
 },
 "nbformat": 4,
 "nbformat_minor": 2
}
