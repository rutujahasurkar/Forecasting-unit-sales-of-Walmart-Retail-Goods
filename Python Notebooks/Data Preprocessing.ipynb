{
 "cells": [
  {
   "cell_type": "markdown",
   "metadata": {
    "colab_type": "text",
    "id": "i6wloJFz6U7e"
   },
   "source": [
    "# DATA PREPROCESSING"
   ]
  },
  {
   "cell_type": "code",
   "execution_count": 1,
   "metadata": {
    "colab": {},
    "colab_type": "code",
    "executionInfo": {
     "elapsed": 350,
     "status": "ok",
     "timestamp": 1596331818551,
     "user": {
      "displayName": "Rushikesh Nileshbhai Bosamia",
      "photoUrl": "",
      "userId": "10236464677723168905"
     },
     "user_tz": 420
    },
    "id": "AwNKSsSNSetV"
   },
   "outputs": [],
   "source": [
    "import numpy as np\n",
    "import pandas as pd"
   ]
  },
  {
   "cell_type": "code",
   "execution_count": 2,
   "metadata": {
    "colab": {},
    "colab_type": "code",
    "executionInfo": {
     "elapsed": 365,
     "status": "ok",
     "timestamp": 1596331819934,
     "user": {
      "displayName": "Rushikesh Nileshbhai Bosamia",
      "photoUrl": "",
      "userId": "10236464677723168905"
     },
     "user_tz": 420
    },
    "id": "xyxaPs_2VqOs"
   },
   "outputs": [],
   "source": [
    "DIR = '/home/014491542/CMPE-256 Project/Raw Data/'"
   ]
  },
  {
   "cell_type": "markdown",
   "metadata": {
    "colab_type": "text",
    "id": "1ncldl3N5T24"
   },
   "source": [
    "#**Import CSV to dataframes**"
   ]
  },
  {
   "cell_type": "code",
   "execution_count": 3,
   "metadata": {
    "colab": {},
    "colab_type": "code",
    "executionInfo": {
     "elapsed": 5265,
     "status": "ok",
     "timestamp": 1596331825717,
     "user": {
      "displayName": "Rushikesh Nileshbhai Bosamia",
      "photoUrl": "",
      "userId": "10236464677723168905"
     },
     "user_tz": 420
    },
    "id": "D7jC81JrY_ci"
   },
   "outputs": [],
   "source": [
    "price_datatype = {'store_id':'category','item_id':'category','wm_yr_wk':'int16','sell_price':'float32'}\n",
    "df_prices = pd.read_csv(DIR+'sell_prices.csv',dtype=price_datatype)"
   ]
  },
  {
   "cell_type": "code",
   "execution_count": 4,
   "metadata": {
    "colab": {},
    "colab_type": "code",
    "executionInfo": {
     "elapsed": 4532,
     "status": "ok",
     "timestamp": 1596331825718,
     "user": {
      "displayName": "Rushikesh Nileshbhai Bosamia",
      "photoUrl": "",
      "userId": "10236464677723168905"
     },
     "user_tz": 420
    },
    "id": "o7uYjhxaS790"
   },
   "outputs": [],
   "source": [
    "for col, col_dtype in price_datatype.items():\n",
    "        if col_dtype == \"category\":\n",
    "            df_prices[col] = df_prices[col].cat.codes.astype(\"int16\")\n",
    "            df_prices[col] -= df_prices[col].min()"
   ]
  },
  {
   "cell_type": "code",
   "execution_count": 5,
   "metadata": {
    "colab": {
     "base_uri": "https://localhost:8080/",
     "height": 204
    },
    "colab_type": "code",
    "executionInfo": {
     "elapsed": 4021,
     "status": "ok",
     "timestamp": 1596331825718,
     "user": {
      "displayName": "Rushikesh Nileshbhai Bosamia",
      "photoUrl": "",
      "userId": "10236464677723168905"
     },
     "user_tz": 420
    },
    "id": "zBF9ppghqxgT",
    "outputId": "92e527b1-09b3-4cce-ceb5-42653fdf705b"
   },
   "outputs": [
    {
     "data": {
      "text/html": [
       "<div>\n",
       "<style scoped>\n",
       "    .dataframe tbody tr th:only-of-type {\n",
       "        vertical-align: middle;\n",
       "    }\n",
       "\n",
       "    .dataframe tbody tr th {\n",
       "        vertical-align: top;\n",
       "    }\n",
       "\n",
       "    .dataframe thead th {\n",
       "        text-align: right;\n",
       "    }\n",
       "</style>\n",
       "<table border=\"1\" class=\"dataframe\">\n",
       "  <thead>\n",
       "    <tr style=\"text-align: right;\">\n",
       "      <th></th>\n",
       "      <th>store_id</th>\n",
       "      <th>item_id</th>\n",
       "      <th>wm_yr_wk</th>\n",
       "      <th>sell_price</th>\n",
       "    </tr>\n",
       "  </thead>\n",
       "  <tbody>\n",
       "    <tr>\n",
       "      <th>0</th>\n",
       "      <td>0</td>\n",
       "      <td>0</td>\n",
       "      <td>11325</td>\n",
       "      <td>9.58</td>\n",
       "    </tr>\n",
       "    <tr>\n",
       "      <th>1</th>\n",
       "      <td>0</td>\n",
       "      <td>0</td>\n",
       "      <td>11326</td>\n",
       "      <td>9.58</td>\n",
       "    </tr>\n",
       "    <tr>\n",
       "      <th>2</th>\n",
       "      <td>0</td>\n",
       "      <td>0</td>\n",
       "      <td>11327</td>\n",
       "      <td>8.26</td>\n",
       "    </tr>\n",
       "    <tr>\n",
       "      <th>3</th>\n",
       "      <td>0</td>\n",
       "      <td>0</td>\n",
       "      <td>11328</td>\n",
       "      <td>8.26</td>\n",
       "    </tr>\n",
       "    <tr>\n",
       "      <th>4</th>\n",
       "      <td>0</td>\n",
       "      <td>0</td>\n",
       "      <td>11329</td>\n",
       "      <td>8.26</td>\n",
       "    </tr>\n",
       "  </tbody>\n",
       "</table>\n",
       "</div>"
      ],
      "text/plain": [
       "   store_id  item_id  wm_yr_wk  sell_price\n",
       "0         0        0     11325        9.58\n",
       "1         0        0     11326        9.58\n",
       "2         0        0     11327        8.26\n",
       "3         0        0     11328        8.26\n",
       "4         0        0     11329        8.26"
      ]
     },
     "execution_count": 5,
     "metadata": {},
     "output_type": "execute_result"
    }
   ],
   "source": [
    "df_prices.head()"
   ]
  },
  {
   "cell_type": "code",
   "execution_count": 6,
   "metadata": {
    "colab": {},
    "colab_type": "code",
    "executionInfo": {
     "elapsed": 1436,
     "status": "ok",
     "timestamp": 1596331825719,
     "user": {
      "displayName": "Rushikesh Nileshbhai Bosamia",
      "photoUrl": "",
      "userId": "10236464677723168905"
     },
     "user_tz": 420
    },
    "id": "mwQjaRZfZ_9K"
   },
   "outputs": [],
   "source": [
    "cal_datatypes={\"event_name_1\": \"category\", \"event_name_2\": \"category\", \"event_type_1\": \"category\", \n",
    "         \"event_type_2\": \"category\", \"weekday\": \"category\", 'wm_yr_wk': 'int16', \"wday\": \"int16\",\n",
    "        \"month\": \"int16\", \"year\": \"int16\", \"snap_CA\": \"float32\", 'snap_TX': 'float32', 'snap_WI': 'float32' }\n",
    "df_calender = pd.read_csv(DIR+'calendar.csv',dtype=cal_datatypes)"
   ]
  },
  {
   "cell_type": "code",
   "execution_count": 7,
   "metadata": {
    "colab": {},
    "colab_type": "code",
    "executionInfo": {
     "elapsed": 997,
     "status": "ok",
     "timestamp": 1596331825719,
     "user": {
      "displayName": "Rushikesh Nileshbhai Bosamia",
      "photoUrl": "",
      "userId": "10236464677723168905"
     },
     "user_tz": 420
    },
    "id": "O5xGIhmDU_bN"
   },
   "outputs": [],
   "source": [
    "for col, col_dtype in cal_datatypes.items():\n",
    "        if col_dtype == \"category\":\n",
    "            df_calender[col] = df_calender[col].cat.codes.astype(\"int16\")\n",
    "            df_calender[col] -= df_calender[col].min()"
   ]
  },
  {
   "cell_type": "code",
   "execution_count": 8,
   "metadata": {
    "colab": {},
    "colab_type": "code",
    "executionInfo": {
     "elapsed": 6157,
     "status": "ok",
     "timestamp": 1596331840638,
     "user": {
      "displayName": "Rushikesh Nileshbhai Bosamia",
      "photoUrl": "",
      "userId": "10236464677723168905"
     },
     "user_tz": 420
    },
    "id": "GihylQS9bQ-p"
   },
   "outputs": [],
   "source": [
    "numcols = [f\"d_{day}\" for day in range(1,1942)]\n",
    "catcols = ['id', 'item_id', 'dept_id','store_id', 'cat_id', 'state_id']\n",
    "\n",
    "val_datatype = {col:'float32' for col in numcols}\n",
    "val_datatype.update({col:'category' for col in catcols})\n",
    "df_eval = pd.read_csv(DIR+'sales_train_evaluation.csv',usecols= numcols + catcols, dtype=val_datatype)"
   ]
  },
  {
   "cell_type": "code",
   "execution_count": 9,
   "metadata": {},
   "outputs": [
    {
     "data": {
      "text/html": [
       "<div>\n",
       "<style scoped>\n",
       "    .dataframe tbody tr th:only-of-type {\n",
       "        vertical-align: middle;\n",
       "    }\n",
       "\n",
       "    .dataframe tbody tr th {\n",
       "        vertical-align: top;\n",
       "    }\n",
       "\n",
       "    .dataframe thead th {\n",
       "        text-align: right;\n",
       "    }\n",
       "</style>\n",
       "<table border=\"1\" class=\"dataframe\">\n",
       "  <thead>\n",
       "    <tr style=\"text-align: right;\">\n",
       "      <th></th>\n",
       "      <th>id</th>\n",
       "      <th>item_id</th>\n",
       "      <th>dept_id</th>\n",
       "      <th>cat_id</th>\n",
       "      <th>store_id</th>\n",
       "      <th>state_id</th>\n",
       "      <th>d_1</th>\n",
       "      <th>d_2</th>\n",
       "      <th>d_3</th>\n",
       "      <th>d_4</th>\n",
       "      <th>...</th>\n",
       "      <th>d_1932</th>\n",
       "      <th>d_1933</th>\n",
       "      <th>d_1934</th>\n",
       "      <th>d_1935</th>\n",
       "      <th>d_1936</th>\n",
       "      <th>d_1937</th>\n",
       "      <th>d_1938</th>\n",
       "      <th>d_1939</th>\n",
       "      <th>d_1940</th>\n",
       "      <th>d_1941</th>\n",
       "    </tr>\n",
       "  </thead>\n",
       "  <tbody>\n",
       "    <tr>\n",
       "      <th>0</th>\n",
       "      <td>HOBBIES_1_001_CA_1_evaluation</td>\n",
       "      <td>HOBBIES_1_001</td>\n",
       "      <td>HOBBIES_1</td>\n",
       "      <td>HOBBIES</td>\n",
       "      <td>CA_1</td>\n",
       "      <td>CA</td>\n",
       "      <td>0.0</td>\n",
       "      <td>0.0</td>\n",
       "      <td>0.0</td>\n",
       "      <td>0.0</td>\n",
       "      <td>...</td>\n",
       "      <td>2.0</td>\n",
       "      <td>4.0</td>\n",
       "      <td>0.0</td>\n",
       "      <td>0.0</td>\n",
       "      <td>0.0</td>\n",
       "      <td>0.0</td>\n",
       "      <td>3.0</td>\n",
       "      <td>3.0</td>\n",
       "      <td>0.0</td>\n",
       "      <td>1.0</td>\n",
       "    </tr>\n",
       "    <tr>\n",
       "      <th>1</th>\n",
       "      <td>HOBBIES_1_002_CA_1_evaluation</td>\n",
       "      <td>HOBBIES_1_002</td>\n",
       "      <td>HOBBIES_1</td>\n",
       "      <td>HOBBIES</td>\n",
       "      <td>CA_1</td>\n",
       "      <td>CA</td>\n",
       "      <td>0.0</td>\n",
       "      <td>0.0</td>\n",
       "      <td>0.0</td>\n",
       "      <td>0.0</td>\n",
       "      <td>...</td>\n",
       "      <td>0.0</td>\n",
       "      <td>1.0</td>\n",
       "      <td>2.0</td>\n",
       "      <td>1.0</td>\n",
       "      <td>1.0</td>\n",
       "      <td>0.0</td>\n",
       "      <td>0.0</td>\n",
       "      <td>0.0</td>\n",
       "      <td>0.0</td>\n",
       "      <td>0.0</td>\n",
       "    </tr>\n",
       "    <tr>\n",
       "      <th>2</th>\n",
       "      <td>HOBBIES_1_003_CA_1_evaluation</td>\n",
       "      <td>HOBBIES_1_003</td>\n",
       "      <td>HOBBIES_1</td>\n",
       "      <td>HOBBIES</td>\n",
       "      <td>CA_1</td>\n",
       "      <td>CA</td>\n",
       "      <td>0.0</td>\n",
       "      <td>0.0</td>\n",
       "      <td>0.0</td>\n",
       "      <td>0.0</td>\n",
       "      <td>...</td>\n",
       "      <td>1.0</td>\n",
       "      <td>0.0</td>\n",
       "      <td>2.0</td>\n",
       "      <td>0.0</td>\n",
       "      <td>0.0</td>\n",
       "      <td>0.0</td>\n",
       "      <td>2.0</td>\n",
       "      <td>3.0</td>\n",
       "      <td>0.0</td>\n",
       "      <td>1.0</td>\n",
       "    </tr>\n",
       "    <tr>\n",
       "      <th>3</th>\n",
       "      <td>HOBBIES_1_004_CA_1_evaluation</td>\n",
       "      <td>HOBBIES_1_004</td>\n",
       "      <td>HOBBIES_1</td>\n",
       "      <td>HOBBIES</td>\n",
       "      <td>CA_1</td>\n",
       "      <td>CA</td>\n",
       "      <td>0.0</td>\n",
       "      <td>0.0</td>\n",
       "      <td>0.0</td>\n",
       "      <td>0.0</td>\n",
       "      <td>...</td>\n",
       "      <td>1.0</td>\n",
       "      <td>1.0</td>\n",
       "      <td>0.0</td>\n",
       "      <td>4.0</td>\n",
       "      <td>0.0</td>\n",
       "      <td>1.0</td>\n",
       "      <td>3.0</td>\n",
       "      <td>0.0</td>\n",
       "      <td>2.0</td>\n",
       "      <td>6.0</td>\n",
       "    </tr>\n",
       "    <tr>\n",
       "      <th>4</th>\n",
       "      <td>HOBBIES_1_005_CA_1_evaluation</td>\n",
       "      <td>HOBBIES_1_005</td>\n",
       "      <td>HOBBIES_1</td>\n",
       "      <td>HOBBIES</td>\n",
       "      <td>CA_1</td>\n",
       "      <td>CA</td>\n",
       "      <td>0.0</td>\n",
       "      <td>0.0</td>\n",
       "      <td>0.0</td>\n",
       "      <td>0.0</td>\n",
       "      <td>...</td>\n",
       "      <td>0.0</td>\n",
       "      <td>0.0</td>\n",
       "      <td>0.0</td>\n",
       "      <td>2.0</td>\n",
       "      <td>1.0</td>\n",
       "      <td>0.0</td>\n",
       "      <td>0.0</td>\n",
       "      <td>2.0</td>\n",
       "      <td>1.0</td>\n",
       "      <td>0.0</td>\n",
       "    </tr>\n",
       "  </tbody>\n",
       "</table>\n",
       "<p>5 rows × 1947 columns</p>\n",
       "</div>"
      ],
      "text/plain": [
       "                              id        item_id    dept_id   cat_id store_id  \\\n",
       "0  HOBBIES_1_001_CA_1_evaluation  HOBBIES_1_001  HOBBIES_1  HOBBIES     CA_1   \n",
       "1  HOBBIES_1_002_CA_1_evaluation  HOBBIES_1_002  HOBBIES_1  HOBBIES     CA_1   \n",
       "2  HOBBIES_1_003_CA_1_evaluation  HOBBIES_1_003  HOBBIES_1  HOBBIES     CA_1   \n",
       "3  HOBBIES_1_004_CA_1_evaluation  HOBBIES_1_004  HOBBIES_1  HOBBIES     CA_1   \n",
       "4  HOBBIES_1_005_CA_1_evaluation  HOBBIES_1_005  HOBBIES_1  HOBBIES     CA_1   \n",
       "\n",
       "  state_id  d_1  d_2  d_3  d_4   ...    d_1932  d_1933  d_1934  d_1935  \\\n",
       "0       CA  0.0  0.0  0.0  0.0   ...       2.0     4.0     0.0     0.0   \n",
       "1       CA  0.0  0.0  0.0  0.0   ...       0.0     1.0     2.0     1.0   \n",
       "2       CA  0.0  0.0  0.0  0.0   ...       1.0     0.0     2.0     0.0   \n",
       "3       CA  0.0  0.0  0.0  0.0   ...       1.0     1.0     0.0     4.0   \n",
       "4       CA  0.0  0.0  0.0  0.0   ...       0.0     0.0     0.0     2.0   \n",
       "\n",
       "   d_1936  d_1937  d_1938  d_1939  d_1940  d_1941  \n",
       "0     0.0     0.0     3.0     3.0     0.0     1.0  \n",
       "1     1.0     0.0     0.0     0.0     0.0     0.0  \n",
       "2     0.0     0.0     2.0     3.0     0.0     1.0  \n",
       "3     0.0     1.0     3.0     0.0     2.0     6.0  \n",
       "4     1.0     0.0     0.0     2.0     1.0     0.0  \n",
       "\n",
       "[5 rows x 1947 columns]"
      ]
     },
     "execution_count": 9,
     "metadata": {},
     "output_type": "execute_result"
    }
   ],
   "source": [
    "df_eval.head()"
   ]
  },
  {
   "cell_type": "code",
   "execution_count": 10,
   "metadata": {
    "colab": {},
    "colab_type": "code",
    "id": "j4KQZOBgqzQ9"
   },
   "outputs": [],
   "source": [
    "for col in catcols:\n",
    "        if col != \"id\":\n",
    "            df_eval[col] = df_eval[col].cat.codes.astype(\"int16\")\n",
    "            df_eval[col] -= df_eval[col].min()"
   ]
  },
  {
   "cell_type": "markdown",
   "metadata": {
    "colab_type": "text",
    "id": "tkKJ1R-a5rte"
   },
   "source": [
    "# **Pivot days columns to a single Sales columns**"
   ]
  },
  {
   "cell_type": "code",
   "execution_count": 11,
   "metadata": {
    "colab": {},
    "colab_type": "code",
    "executionInfo": {
     "elapsed": 142823,
     "status": "ok",
     "timestamp": 1596331987674,
     "user": {
      "displayName": "Rushikesh Nileshbhai Bosamia",
      "photoUrl": "",
      "userId": "10236464677723168905"
     },
     "user_tz": 420
    },
    "id": "LYezUByQsxYt"
   },
   "outputs": [],
   "source": [
    "df_eval = pd.melt(df_eval,\n",
    "                  id_vars = catcols,\n",
    "                  value_vars = [col for col in df_eval.columns if col.startswith(\"d_\")],\n",
    "                  var_name = \"d\",\n",
    "                  value_name = \"sales\")"
   ]
  },
  {
   "cell_type": "code",
   "execution_count": 12,
   "metadata": {
    "colab": {
     "base_uri": "https://localhost:8080/",
     "height": 34
    },
    "colab_type": "code",
    "executionInfo": {
     "elapsed": 141682,
     "status": "ok",
     "timestamp": 1596331987678,
     "user": {
      "displayName": "Rushikesh Nileshbhai Bosamia",
      "photoUrl": "",
      "userId": "10236464677723168905"
     },
     "user_tz": 420
    },
    "id": "orVbYFJYYlh-",
    "outputId": "2ba6fbae-b285-4e08-a2a9-db101bc00223"
   },
   "outputs": [
    {
     "data": {
      "text/plain": [
       "(59181090, 8)"
      ]
     },
     "execution_count": 12,
     "metadata": {},
     "output_type": "execute_result"
    }
   ],
   "source": [
    "df_eval.shape"
   ]
  },
  {
   "cell_type": "markdown",
   "metadata": {
    "colab_type": "text",
    "id": "gnbZnMjG51Av"
   },
   "source": [
    "# **Merge all Dataframes**"
   ]
  },
  {
   "cell_type": "code",
   "execution_count": 13,
   "metadata": {
    "colab": {},
    "colab_type": "code",
    "executionInfo": {
     "elapsed": 161854,
     "status": "ok",
     "timestamp": 1596332008993,
     "user": {
      "displayName": "Rushikesh Nileshbhai Bosamia",
      "photoUrl": "",
      "userId": "10236464677723168905"
     },
     "user_tz": 420
    },
    "id": "IfwOtTkLYLjB"
   },
   "outputs": [],
   "source": [
    "df = df_eval.merge(df_calender, on= \"d\", copy = False)\n",
    "df = df.merge(df_prices, on = [\"store_id\", \"item_id\", \"wm_yr_wk\"], copy = False)"
   ]
  },
  {
   "cell_type": "code",
   "execution_count": 14,
   "metadata": {
    "colab": {
     "base_uri": "https://localhost:8080/",
     "height": 34
    },
    "colab_type": "code",
    "executionInfo": {
     "elapsed": 159303,
     "status": "ok",
     "timestamp": 1596332008994,
     "user": {
      "displayName": "Rushikesh Nileshbhai Bosamia",
      "photoUrl": "",
      "userId": "10236464677723168905"
     },
     "user_tz": 420
    },
    "id": "6fufs6plY956",
    "outputId": "6042ee75-5eaf-4f66-cd51-e88d03eae7db"
   },
   "outputs": [
    {
     "data": {
      "text/plain": [
       "(46881677, 22)"
      ]
     },
     "execution_count": 14,
     "metadata": {},
     "output_type": "execute_result"
    }
   ],
   "source": [
    "df.shape"
   ]
  },
  {
   "cell_type": "markdown",
   "metadata": {
    "colab_type": "text",
    "id": "29kkvGh_59Ff"
   },
   "source": [
    "# **Time Series Feature Creation**"
   ]
  },
  {
   "cell_type": "code",
   "execution_count": 15,
   "metadata": {
    "colab": {},
    "colab_type": "code",
    "executionInfo": {
     "elapsed": 7978,
     "status": "ok",
     "timestamp": 1596332050362,
     "user": {
      "displayName": "Rushikesh Nileshbhai Bosamia",
      "photoUrl": "",
      "userId": "10236464677723168905"
     },
     "user_tz": 420
    },
    "id": "IBag2j2tZULP"
   },
   "outputs": [],
   "source": [
    "# LAG COLUMNS FOR PAST 7,14 AND 28 DAYS\n",
    "\n",
    "df['lag_7'] = df[['id','sales']].groupby('id')['sales'].shift(7)\n",
    "df['lag_14'] = df[['id','sales']].groupby('id')['sales'].shift(14)\n",
    "df['lag_21'] = df[['id','sales']].groupby('id')['sales'].shift(21)\n",
    "df['lag_28'] = df[['id','sales']].groupby('id')['sales'].shift(28)"
   ]
  },
  {
   "cell_type": "code",
   "execution_count": 16,
   "metadata": {
    "colab": {},
    "colab_type": "code",
    "executionInfo": {
     "elapsed": 35399,
     "status": "ok",
     "timestamp": 1596332198018,
     "user": {
      "displayName": "Rushikesh Nileshbhai Bosamia",
      "photoUrl": "",
      "userId": "10236464677723168905"
     },
     "user_tz": 420
    },
    "id": "z-EpboLZwfst"
   },
   "outputs": [],
   "source": [
    "# ROLLING AVERAGE FOR PAST 7,14 AND 28 DAYS\n",
    "\n",
    "df['rolling_ave_7_7'] = df[['id','lag_7']].groupby('id')['lag_7'].transform(lambda x : x.rolling(7).mean())\n",
    "df['rolling_ave_14_14'] = df[['id','lag_14']].groupby('id')['lag_14'].transform(lambda x : x.rolling(14).mean())\n",
    "df['rolling_ave_21_21'] = df[['id','lag_21']].groupby('id')['lag_21'].transform(lambda x : x.rolling(21).mean())\n",
    "df['rolling_ave_28_28'] = df[['id','lag_28']].groupby('id')['lag_28'].transform(lambda x : x.rolling(28).mean())"
   ]
  },
  {
   "cell_type": "markdown",
   "metadata": {
    "colab_type": "text",
    "id": "28LIAAZA9k5l"
   },
   "source": [
    "# **Date Feature Creation**"
   ]
  },
  {
   "cell_type": "code",
   "execution_count": 17,
   "metadata": {
    "colab": {},
    "colab_type": "code",
    "executionInfo": {
     "elapsed": 11348,
     "status": "ok",
     "timestamp": 1596334581872,
     "user": {
      "displayName": "Rushikesh Nileshbhai Bosamia",
      "photoUrl": "",
      "userId": "10236464677723168905"
     },
     "user_tz": 420
    },
    "id": "07cqKTYo66qR"
   },
   "outputs": [],
   "source": [
    "df['date'] = pd.to_datetime(df['date'])\n",
    "df['quarter'] = getattr(df['date'].dt,'quarter').astype('int16')\n",
    "df['year'] = getattr(df['date'].dt,'year').astype('int16')\n",
    "df['mday'] = getattr(df['date'].dt,'day').astype('int16')\n",
    "df['is_month_start'] = getattr(df['date'].dt,'is_month_start').astype('int16')\n",
    "df['is_month_end'] = getattr(df['date'].dt,'is_month_end').astype('int16')"
   ]
  },
  {
   "cell_type": "code",
   "execution_count": 18,
   "metadata": {
    "colab": {
     "base_uri": "https://localhost:8080/",
     "height": 394
    },
    "colab_type": "code",
    "executionInfo": {
     "elapsed": 283,
     "status": "ok",
     "timestamp": 1596334694086,
     "user": {
      "displayName": "Rushikesh Nileshbhai Bosamia",
      "photoUrl": "",
      "userId": "10236464677723168905"
     },
     "user_tz": 420
    },
    "id": "ZP-cg12b9Qj9",
    "outputId": "858918d6-e1ba-4fa4-a8fc-a1ed7f136fb1"
   },
   "outputs": [
    {
     "data": {
      "text/html": [
       "<div>\n",
       "<style scoped>\n",
       "    .dataframe tbody tr th:only-of-type {\n",
       "        vertical-align: middle;\n",
       "    }\n",
       "\n",
       "    .dataframe tbody tr th {\n",
       "        vertical-align: top;\n",
       "    }\n",
       "\n",
       "    .dataframe thead th {\n",
       "        text-align: right;\n",
       "    }\n",
       "</style>\n",
       "<table border=\"1\" class=\"dataframe\">\n",
       "  <thead>\n",
       "    <tr style=\"text-align: right;\">\n",
       "      <th></th>\n",
       "      <th>id</th>\n",
       "      <th>item_id</th>\n",
       "      <th>dept_id</th>\n",
       "      <th>store_id</th>\n",
       "      <th>cat_id</th>\n",
       "      <th>state_id</th>\n",
       "      <th>d</th>\n",
       "      <th>sales</th>\n",
       "      <th>date</th>\n",
       "      <th>wm_yr_wk</th>\n",
       "      <th>...</th>\n",
       "      <th>lag_21</th>\n",
       "      <th>lag_28</th>\n",
       "      <th>rolling_ave_7_7</th>\n",
       "      <th>rolling_ave_14_14</th>\n",
       "      <th>rolling_ave_21_21</th>\n",
       "      <th>rolling_ave_28_28</th>\n",
       "      <th>quarter</th>\n",
       "      <th>mday</th>\n",
       "      <th>is_month_start</th>\n",
       "      <th>is_month_end</th>\n",
       "    </tr>\n",
       "  </thead>\n",
       "  <tbody>\n",
       "    <tr>\n",
       "      <th>0</th>\n",
       "      <td>HOBBIES_1_008_CA_1_evaluation</td>\n",
       "      <td>7</td>\n",
       "      <td>0</td>\n",
       "      <td>0</td>\n",
       "      <td>0</td>\n",
       "      <td>0</td>\n",
       "      <td>d_1</td>\n",
       "      <td>12.0</td>\n",
       "      <td>2011-01-29</td>\n",
       "      <td>11101</td>\n",
       "      <td>...</td>\n",
       "      <td>NaN</td>\n",
       "      <td>NaN</td>\n",
       "      <td>NaN</td>\n",
       "      <td>NaN</td>\n",
       "      <td>NaN</td>\n",
       "      <td>NaN</td>\n",
       "      <td>1</td>\n",
       "      <td>29</td>\n",
       "      <td>0</td>\n",
       "      <td>0</td>\n",
       "    </tr>\n",
       "    <tr>\n",
       "      <th>1</th>\n",
       "      <td>HOBBIES_1_008_CA_1_evaluation</td>\n",
       "      <td>7</td>\n",
       "      <td>0</td>\n",
       "      <td>0</td>\n",
       "      <td>0</td>\n",
       "      <td>0</td>\n",
       "      <td>d_2</td>\n",
       "      <td>15.0</td>\n",
       "      <td>2011-01-30</td>\n",
       "      <td>11101</td>\n",
       "      <td>...</td>\n",
       "      <td>NaN</td>\n",
       "      <td>NaN</td>\n",
       "      <td>NaN</td>\n",
       "      <td>NaN</td>\n",
       "      <td>NaN</td>\n",
       "      <td>NaN</td>\n",
       "      <td>1</td>\n",
       "      <td>30</td>\n",
       "      <td>0</td>\n",
       "      <td>0</td>\n",
       "    </tr>\n",
       "    <tr>\n",
       "      <th>2</th>\n",
       "      <td>HOBBIES_1_008_CA_1_evaluation</td>\n",
       "      <td>7</td>\n",
       "      <td>0</td>\n",
       "      <td>0</td>\n",
       "      <td>0</td>\n",
       "      <td>0</td>\n",
       "      <td>d_3</td>\n",
       "      <td>0.0</td>\n",
       "      <td>2011-01-31</td>\n",
       "      <td>11101</td>\n",
       "      <td>...</td>\n",
       "      <td>NaN</td>\n",
       "      <td>NaN</td>\n",
       "      <td>NaN</td>\n",
       "      <td>NaN</td>\n",
       "      <td>NaN</td>\n",
       "      <td>NaN</td>\n",
       "      <td>1</td>\n",
       "      <td>31</td>\n",
       "      <td>0</td>\n",
       "      <td>1</td>\n",
       "    </tr>\n",
       "    <tr>\n",
       "      <th>3</th>\n",
       "      <td>HOBBIES_1_008_CA_1_evaluation</td>\n",
       "      <td>7</td>\n",
       "      <td>0</td>\n",
       "      <td>0</td>\n",
       "      <td>0</td>\n",
       "      <td>0</td>\n",
       "      <td>d_4</td>\n",
       "      <td>0.0</td>\n",
       "      <td>2011-02-01</td>\n",
       "      <td>11101</td>\n",
       "      <td>...</td>\n",
       "      <td>NaN</td>\n",
       "      <td>NaN</td>\n",
       "      <td>NaN</td>\n",
       "      <td>NaN</td>\n",
       "      <td>NaN</td>\n",
       "      <td>NaN</td>\n",
       "      <td>1</td>\n",
       "      <td>1</td>\n",
       "      <td>1</td>\n",
       "      <td>0</td>\n",
       "    </tr>\n",
       "    <tr>\n",
       "      <th>4</th>\n",
       "      <td>HOBBIES_1_008_CA_1_evaluation</td>\n",
       "      <td>7</td>\n",
       "      <td>0</td>\n",
       "      <td>0</td>\n",
       "      <td>0</td>\n",
       "      <td>0</td>\n",
       "      <td>d_5</td>\n",
       "      <td>0.0</td>\n",
       "      <td>2011-02-02</td>\n",
       "      <td>11101</td>\n",
       "      <td>...</td>\n",
       "      <td>NaN</td>\n",
       "      <td>NaN</td>\n",
       "      <td>NaN</td>\n",
       "      <td>NaN</td>\n",
       "      <td>NaN</td>\n",
       "      <td>NaN</td>\n",
       "      <td>1</td>\n",
       "      <td>2</td>\n",
       "      <td>0</td>\n",
       "      <td>0</td>\n",
       "    </tr>\n",
       "  </tbody>\n",
       "</table>\n",
       "<p>5 rows × 34 columns</p>\n",
       "</div>"
      ],
      "text/plain": [
       "                              id  item_id  dept_id  store_id  cat_id  \\\n",
       "0  HOBBIES_1_008_CA_1_evaluation        7        0         0       0   \n",
       "1  HOBBIES_1_008_CA_1_evaluation        7        0         0       0   \n",
       "2  HOBBIES_1_008_CA_1_evaluation        7        0         0       0   \n",
       "3  HOBBIES_1_008_CA_1_evaluation        7        0         0       0   \n",
       "4  HOBBIES_1_008_CA_1_evaluation        7        0         0       0   \n",
       "\n",
       "   state_id    d  sales       date  wm_yr_wk      ...       lag_21  lag_28  \\\n",
       "0         0  d_1   12.0 2011-01-29     11101      ...          NaN     NaN   \n",
       "1         0  d_2   15.0 2011-01-30     11101      ...          NaN     NaN   \n",
       "2         0  d_3    0.0 2011-01-31     11101      ...          NaN     NaN   \n",
       "3         0  d_4    0.0 2011-02-01     11101      ...          NaN     NaN   \n",
       "4         0  d_5    0.0 2011-02-02     11101      ...          NaN     NaN   \n",
       "\n",
       "   rolling_ave_7_7  rolling_ave_14_14  rolling_ave_21_21  rolling_ave_28_28  \\\n",
       "0              NaN                NaN                NaN                NaN   \n",
       "1              NaN                NaN                NaN                NaN   \n",
       "2              NaN                NaN                NaN                NaN   \n",
       "3              NaN                NaN                NaN                NaN   \n",
       "4              NaN                NaN                NaN                NaN   \n",
       "\n",
       "   quarter  mday  is_month_start  is_month_end  \n",
       "0        1    29               0             0  \n",
       "1        1    30               0             0  \n",
       "2        1    31               0             1  \n",
       "3        1     1               1             0  \n",
       "4        1     2               0             0  \n",
       "\n",
       "[5 rows x 34 columns]"
      ]
     },
     "execution_count": 18,
     "metadata": {},
     "output_type": "execute_result"
    }
   ],
   "source": [
    "df.head()"
   ]
  },
  {
   "cell_type": "code",
   "execution_count": 23,
   "metadata": {},
   "outputs": [],
   "source": [
    "df_val = df[df['date']>'2016-04-24']\n",
    "df_eval = df[df['date']<='2016-04-24']"
   ]
  },
  {
   "cell_type": "code",
   "execution_count": 25,
   "metadata": {},
   "outputs": [
    {
     "data": {
      "text/html": [
       "<div>\n",
       "<style scoped>\n",
       "    .dataframe tbody tr th:only-of-type {\n",
       "        vertical-align: middle;\n",
       "    }\n",
       "\n",
       "    .dataframe tbody tr th {\n",
       "        vertical-align: top;\n",
       "    }\n",
       "\n",
       "    .dataframe thead th {\n",
       "        text-align: right;\n",
       "    }\n",
       "</style>\n",
       "<table border=\"1\" class=\"dataframe\">\n",
       "  <thead>\n",
       "    <tr style=\"text-align: right;\">\n",
       "      <th></th>\n",
       "      <th>id</th>\n",
       "      <th>item_id</th>\n",
       "      <th>dept_id</th>\n",
       "      <th>store_id</th>\n",
       "      <th>cat_id</th>\n",
       "      <th>state_id</th>\n",
       "      <th>d</th>\n",
       "      <th>sales</th>\n",
       "      <th>date</th>\n",
       "      <th>wm_yr_wk</th>\n",
       "      <th>...</th>\n",
       "      <th>lag_21</th>\n",
       "      <th>lag_28</th>\n",
       "      <th>rolling_ave_7_7</th>\n",
       "      <th>rolling_ave_14_14</th>\n",
       "      <th>rolling_ave_21_21</th>\n",
       "      <th>rolling_ave_28_28</th>\n",
       "      <th>quarter</th>\n",
       "      <th>mday</th>\n",
       "      <th>is_month_start</th>\n",
       "      <th>is_month_end</th>\n",
       "    </tr>\n",
       "  </thead>\n",
       "  <tbody>\n",
       "    <tr>\n",
       "      <th>45966979</th>\n",
       "      <td>HOBBIES_1_001_CA_1_evaluation</td>\n",
       "      <td>0</td>\n",
       "      <td>0</td>\n",
       "      <td>0</td>\n",
       "      <td>0</td>\n",
       "      <td>0</td>\n",
       "      <td>d_1914</td>\n",
       "      <td>0.0</td>\n",
       "      <td>2016-04-25</td>\n",
       "      <td>11613</td>\n",
       "      <td>...</td>\n",
       "      <td>0.0</td>\n",
       "      <td>1.0</td>\n",
       "      <td>0.857143</td>\n",
       "      <td>0.928571</td>\n",
       "      <td>0.952381</td>\n",
       "      <td>1.035714</td>\n",
       "      <td>2</td>\n",
       "      <td>25</td>\n",
       "      <td>0</td>\n",
       "      <td>0</td>\n",
       "    </tr>\n",
       "    <tr>\n",
       "      <th>45966980</th>\n",
       "      <td>HOBBIES_1_001_CA_1_evaluation</td>\n",
       "      <td>0</td>\n",
       "      <td>0</td>\n",
       "      <td>0</td>\n",
       "      <td>0</td>\n",
       "      <td>0</td>\n",
       "      <td>d_1915</td>\n",
       "      <td>0.0</td>\n",
       "      <td>2016-04-26</td>\n",
       "      <td>11613</td>\n",
       "      <td>...</td>\n",
       "      <td>4.0</td>\n",
       "      <td>0.0</td>\n",
       "      <td>1.000000</td>\n",
       "      <td>0.928571</td>\n",
       "      <td>1.095238</td>\n",
       "      <td>0.964286</td>\n",
       "      <td>2</td>\n",
       "      <td>26</td>\n",
       "      <td>0</td>\n",
       "      <td>0</td>\n",
       "    </tr>\n",
       "    <tr>\n",
       "      <th>45966981</th>\n",
       "      <td>HOBBIES_1_001_CA_1_evaluation</td>\n",
       "      <td>0</td>\n",
       "      <td>0</td>\n",
       "      <td>0</td>\n",
       "      <td>0</td>\n",
       "      <td>0</td>\n",
       "      <td>d_1916</td>\n",
       "      <td>0.0</td>\n",
       "      <td>2016-04-27</td>\n",
       "      <td>11613</td>\n",
       "      <td>...</td>\n",
       "      <td>2.0</td>\n",
       "      <td>0.0</td>\n",
       "      <td>1.142857</td>\n",
       "      <td>0.928571</td>\n",
       "      <td>1.142857</td>\n",
       "      <td>0.964286</td>\n",
       "      <td>2</td>\n",
       "      <td>27</td>\n",
       "      <td>0</td>\n",
       "      <td>0</td>\n",
       "    </tr>\n",
       "    <tr>\n",
       "      <th>45966982</th>\n",
       "      <td>HOBBIES_1_001_CA_1_evaluation</td>\n",
       "      <td>0</td>\n",
       "      <td>0</td>\n",
       "      <td>0</td>\n",
       "      <td>0</td>\n",
       "      <td>0</td>\n",
       "      <td>d_1917</td>\n",
       "      <td>2.0</td>\n",
       "      <td>2016-04-28</td>\n",
       "      <td>11613</td>\n",
       "      <td>...</td>\n",
       "      <td>3.0</td>\n",
       "      <td>0.0</td>\n",
       "      <td>1.428571</td>\n",
       "      <td>1.000000</td>\n",
       "      <td>1.238095</td>\n",
       "      <td>0.928571</td>\n",
       "      <td>2</td>\n",
       "      <td>28</td>\n",
       "      <td>0</td>\n",
       "      <td>0</td>\n",
       "    </tr>\n",
       "    <tr>\n",
       "      <th>45966983</th>\n",
       "      <td>HOBBIES_1_001_CA_1_evaluation</td>\n",
       "      <td>0</td>\n",
       "      <td>0</td>\n",
       "      <td>0</td>\n",
       "      <td>0</td>\n",
       "      <td>0</td>\n",
       "      <td>d_1918</td>\n",
       "      <td>0.0</td>\n",
       "      <td>2016-04-29</td>\n",
       "      <td>11613</td>\n",
       "      <td>...</td>\n",
       "      <td>0.0</td>\n",
       "      <td>0.0</td>\n",
       "      <td>1.285714</td>\n",
       "      <td>1.071429</td>\n",
       "      <td>1.095238</td>\n",
       "      <td>0.892857</td>\n",
       "      <td>2</td>\n",
       "      <td>29</td>\n",
       "      <td>0</td>\n",
       "      <td>0</td>\n",
       "    </tr>\n",
       "  </tbody>\n",
       "</table>\n",
       "<p>5 rows × 34 columns</p>\n",
       "</div>"
      ],
      "text/plain": [
       "                                     id  item_id  dept_id  store_id  cat_id  \\\n",
       "45966979  HOBBIES_1_001_CA_1_evaluation        0        0         0       0   \n",
       "45966980  HOBBIES_1_001_CA_1_evaluation        0        0         0       0   \n",
       "45966981  HOBBIES_1_001_CA_1_evaluation        0        0         0       0   \n",
       "45966982  HOBBIES_1_001_CA_1_evaluation        0        0         0       0   \n",
       "45966983  HOBBIES_1_001_CA_1_evaluation        0        0         0       0   \n",
       "\n",
       "          state_id       d  sales       date  wm_yr_wk      ...       lag_21  \\\n",
       "45966979         0  d_1914    0.0 2016-04-25     11613      ...          0.0   \n",
       "45966980         0  d_1915    0.0 2016-04-26     11613      ...          4.0   \n",
       "45966981         0  d_1916    0.0 2016-04-27     11613      ...          2.0   \n",
       "45966982         0  d_1917    2.0 2016-04-28     11613      ...          3.0   \n",
       "45966983         0  d_1918    0.0 2016-04-29     11613      ...          0.0   \n",
       "\n",
       "          lag_28  rolling_ave_7_7  rolling_ave_14_14  rolling_ave_21_21  \\\n",
       "45966979     1.0         0.857143           0.928571           0.952381   \n",
       "45966980     0.0         1.000000           0.928571           1.095238   \n",
       "45966981     0.0         1.142857           0.928571           1.142857   \n",
       "45966982     0.0         1.428571           1.000000           1.238095   \n",
       "45966983     0.0         1.285714           1.071429           1.095238   \n",
       "\n",
       "          rolling_ave_28_28  quarter  mday  is_month_start  is_month_end  \n",
       "45966979           1.035714        2    25               0             0  \n",
       "45966980           0.964286        2    26               0             0  \n",
       "45966981           0.964286        2    27               0             0  \n",
       "45966982           0.928571        2    28               0             0  \n",
       "45966983           0.892857        2    29               0             0  \n",
       "\n",
       "[5 rows x 34 columns]"
      ]
     },
     "execution_count": 25,
     "metadata": {},
     "output_type": "execute_result"
    }
   ],
   "source": [
    "df_val.head()"
   ]
  },
  {
   "cell_type": "markdown",
   "metadata": {
    "colab_type": "text",
    "id": "s-utzRIA-L6s"
   },
   "source": [
    "# **Dump to CSV file**"
   ]
  },
  {
   "cell_type": "code",
   "execution_count": 26,
   "metadata": {},
   "outputs": [],
   "source": [
    "df_val.to_csv('/home/014491542/CMPE-256 Project/DataSet/validationDataset.csv')"
   ]
  },
  {
   "cell_type": "code",
   "execution_count": 30,
   "metadata": {
    "colab": {},
    "colab_type": "code",
    "executionInfo": {
     "elapsed": 959424,
     "status": "ok",
     "timestamp": 1596335959515,
     "user": {
      "displayName": "Rushikesh Nileshbhai Bosamia",
      "photoUrl": "",
      "userId": "10236464677723168905"
     },
     "user_tz": 420
    },
    "id": "B4xPaWFD9l1b"
   },
   "outputs": [],
   "source": [
    "df_eval.to_csv('/home/014491542/CMPE-256 Project/DataSet/finalDataset.csv')"
   ]
  }
 ],
 "metadata": {
  "colab": {
   "authorship_tag": "ABX9TyM9cJXqZmG3ZLvEUlbSeTbd",
   "mount_file_id": "1c-3tvIYlAnSdAfzYcMltHnqam7vXtb-P",
   "name": "Data Preprocessing.ipynb",
   "provenance": []
  },
  "kernelspec": {
   "display_name": "Python 3",
   "language": "python",
   "name": "python3"
  },
  "language_info": {
   "codemirror_mode": {
    "name": "ipython",
    "version": 3
   },
   "file_extension": ".py",
   "mimetype": "text/x-python",
   "name": "python",
   "nbconvert_exporter": "python",
   "pygments_lexer": "ipython3",
   "version": "3.7.0"
  }
 },
 "nbformat": 4,
 "nbformat_minor": 1
}
